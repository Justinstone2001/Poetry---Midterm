{
 "cells": [
  {
   "cell_type": "markdown",
   "id": "fcb94825-719b-430e-af6b-385d66a5106b",
   "metadata": {},
   "source": [
    "## Poetry Command Crash Course "
   ]
  },
  {
   "cell_type": "code",
   "execution_count": null,
   "id": "35bcbbbd-19a4-42c0-92da-7425f3763ffc",
   "metadata": {},
   "outputs": [],
   "source": [
    "#Starting a new Poetry project using 'poetry new'\n",
    "\n",
    "!poetry new <project_name>"
   ]
  },
  {
   "cell_type": "code",
   "execution_count": null,
   "id": "86ceef8d-09cc-4bda-984c-01da40a9a3c2",
   "metadata": {},
   "outputs": [],
   "source": [
    "#Initializing a Poetry project within an existing directory\n",
    "\n",
    "!cd Your/Working/Directory\n",
    "!poetry init"
   ]
  },
  {
   "cell_type": "code",
   "execution_count": null,
   "id": "8a31265d-190b-4de6-b89e-c310a279288c",
   "metadata": {},
   "outputs": [],
   "source": [
    "#Adding new dependencies using the 'add' command. This command automatically updates the .toml file in your project directory.\n",
    "\n",
    "!poetry add numpy\n",
    "!poetry add pandas\n",
    "!poetry add seasborn"
   ]
  },
  {
   "cell_type": "code",
   "execution_count": null,
   "id": "97506ebc-fc53-4f08-9a83-4a185d25ea7c",
   "metadata": {},
   "outputs": [],
   "source": [
    "#Activate the virtual environment using the 'shell' command. Be sure to run this command from your working directory.\n",
    "\n",
    "!cd Your/Working/Directory\n",
    "!poetry shell\n",
    "\n",
    "#To exit the virtual environment, use the 'exit' command at the command line.\n",
    "\n",
    "!exit"
   ]
  },
  {
   "cell_type": "code",
   "execution_count": null,
   "id": "4d4a32e2-af17-436c-8672-ff032ecef67d",
   "metadata": {},
   "outputs": [],
   "source": [
    "#Use the 'install' command to automatically install any dependencies listed in the .toml file\n",
    "\n",
    "!poetry install"
   ]
  }
 ],
 "metadata": {
  "kernelspec": {
   "display_name": "Python 3 (ipykernel)",
   "language": "python",
   "name": "python3"
  },
  "language_info": {
   "codemirror_mode": {
    "name": "ipython",
    "version": 3
   },
   "file_extension": ".py",
   "mimetype": "text/x-python",
   "name": "python",
   "nbconvert_exporter": "python",
   "pygments_lexer": "ipython3",
   "version": "3.11.7"
  }
 },
 "nbformat": 4,
 "nbformat_minor": 5
}
